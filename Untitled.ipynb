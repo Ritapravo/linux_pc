{
 "cells": [
  {
   "cell_type": "code",
   "execution_count": 13,
   "metadata": {},
   "outputs": [
    {
     "name": "stdout",
     "output_type": "stream",
     "text": [
      "[1, 2, 3, 4, 5, 6, 7, 8]\n"
     ]
    }
   ],
   "source": [
    "#bfs-dfs in python\n",
    "\n",
    "\n",
    "def bfs(graph, v):\n",
    "    n = len(graph)\n",
    "    vis = [False]*n\n",
    "    traversal = []\n",
    "    st = []\n",
    "    st.append(v)\n",
    "    vis[v-1]=True\n",
    "    while(st!=[]):\n",
    "        v = st.pop(0)\n",
    "        traversal.append(v)\n",
    "        for i in graph[v-1]:\n",
    "            if(not vis[i-1]):\n",
    "                st.append(i)\n",
    "                vis[i-1] = True\n",
    "    return traversal\n",
    "\n",
    "\n",
    "if __name__==\"__main__\":\n",
    "    graph = [[2, 3] ,[1, 4, 5] ,[1, 6, 7] ,[8, 2] ,[8, 2] ,[8, 3] ,[8, 3] ,[4, 5, 6, 7]];\n",
    "    bfs_visit = bfs(graph, 1)\n",
    "    print(bfs_visit)"
   ]
  },
  {
   "cell_type": "code",
   "execution_count": 10,
   "metadata": {},
   "outputs": [
    {
     "data": {
      "text/plain": [
       "[2, 3]"
      ]
     },
     "execution_count": 10,
     "metadata": {},
     "output_type": "execute_result"
    }
   ],
   "source": [
    "bfs(graph,1)"
   ]
  },
  {
   "cell_type": "code",
   "execution_count": 11,
   "metadata": {},
   "outputs": [
    {
     "data": {
      "text/plain": [
       "[2, 3]"
      ]
     },
     "execution_count": 11,
     "metadata": {},
     "output_type": "execute_result"
    }
   ],
   "source": [
    "graph.pop(0)"
   ]
  },
  {
   "cell_type": "code",
   "execution_count": null,
   "metadata": {},
   "outputs": [],
   "source": []
  }
 ],
 "metadata": {
  "kernelspec": {
   "display_name": "Python 3",
   "language": "python",
   "name": "python3"
  },
  "language_info": {
   "codemirror_mode": {
    "name": "ipython",
    "version": 3
   },
   "file_extension": ".py",
   "mimetype": "text/x-python",
   "name": "python",
   "nbconvert_exporter": "python",
   "pygments_lexer": "ipython3",
   "version": "3.6.9"
  }
 },
 "nbformat": 4,
 "nbformat_minor": 2
}
